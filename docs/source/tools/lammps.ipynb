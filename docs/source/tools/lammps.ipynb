{
    "cells": [
        {
            "cell_type": "raw",
            "metadata": {
                "raw_mimetype": "text/restructuredtext",
                "vscode": {
                    "languageId": "raw"
                }
            },
            "source": [
                "LAMMPS\n",
                "======\n",
                "\n",
                "`LAMMPS <https://www.lammps.org/>`__ is a **fast** software package for molecular dynamics simulations written in ``C++``.\n",
                "\n",
                "``graph-pes`` provides a ``pair_style`` for LAMMPS to interface **any** model that inherits from :class:`~graph_pes.core.GraphPESModel` - that includes all of the architectures implemented in ``graph-pes``, together with any other ones you implement yourself.\n",
                "\n",
                "To use this ``pair_style``, you need to do 3 things:\n",
                "\n",
                "1. build LAMMPS with support for ``graph_pes``\n",
                "2. \"deploy\" a model for use with LAMMPS\n",
                "3. run LAMMPS with the ``pair_style graph_pes`` command\n",
                "\n",
                "1. Building LAMMPS\n",
                "------------------\n",
                "\n",
                "Compiling LAMMPS can be a pain, and the exact process depends on your operating system. \n",
                "\n",
                "To combat this, we provide a `script <https://github.com/jla-gardner/graph-pes/blob/main/scripts/build-lammps.sh>`__ to build LAMMPS with ``graph_pes`` support. We can't guarantee that this will work in all cases, but we've tested it on various **Linux** machines with success. If you have any issues, please `open an issue <https://github.com/jla-gardner/graph-pes/issues>`__.\n",
                "\n",
                "Let's start by downloading this script and running it with the ``--help`` flag to see what options are available:\n"
            ]
        },
        {
            "cell_type": "code",
            "execution_count": 3,
            "metadata": {},
            "outputs": [
                {
                    "name": "stdout",
                    "output_type": "stream",
                    "text": [
                        "Usage: ../../../scripts/build-lammps.sh [OPTIONS]\n",
                        "\n",
                        "This script builds a LAMMPS executable with support for 'pair_style graph_pes'.\n",
                        "\n",
                        "It performs the following tasks:\n",
                        "  1. Locates the graph-pes installation\n",
                        "  2. Creates a conda environment with necessary dependencies\n",
                        "  3. Clones the LAMMPS repository\n",
                        "  4. Patches LAMMPS with graph-pes source code\n",
                        "  5. Builds LAMMPS with graph-pes support\n",
                        "\n",
                        "The final executable will be located at:\n",
                        "  ./graph_pes_lmp_cpu_only (if --cpu-only is used)\n",
                        "  ./graph_pes_lmp (default, with GPU support)\n",
                        "\n",
                        "Requirements:\n",
                        "  - conda\n",
                        "\n",
                        "Options:\n",
                        "  --help           Display this help message and exit\n",
                        "  --cpu-only       Build LAMMPS for CPU only (default: GPU enabled)\n",
                        "  --force-rebuild  Force rebuilding of conda environment and LAMMPS\n",
                        "\n"
                    ]
                }
            ],
            "source": [
                "# !wget https://raw.githubusercontent.com/jla-gardner/graph-pes/refs/heads/main/scripts/build-lammps.sh\n",
                "# !bash build-lammps.sh --help\n",
                "!bash ../../../scripts/build-lammps.sh --help"
            ]
        },
        {
            "cell_type": "raw",
            "metadata": {
                "raw_mimetype": "text/restructuredtext",
                "vscode": {
                    "languageId": "raw"
                }
            },
            "source": [
                "This ``build-lammps.sh`` script creates a custom, throwaway conda environment to ensure a uniform build process. It you don't have conda installed, you can install it from e.g. `here <https://docs.conda.io/en/latest/miniconda.html>`__.\n",
                "\n",
                ".. dropdown:: Common problems\n",
                "\n",
                "    * ``CMake Error at (...) Failed to detect a default CUDA architecture.``\n",
                "    \n",
                "      This is a common issue when installing on e.g. an HPC system. A simple fix (if available) is to run ``module load cuda`` before running the script.\n",
                "\n",
                "  \n",
                "Now let's build our LAMMPS executable:"
            ]
        },
        {
            "cell_type": "code",
            "execution_count": null,
            "metadata": {},
            "outputs": [],
            "source": [
                "!bash build-lammps.sh"
            ]
        }
    ],
    "metadata": {
        "kernelspec": {
            "display_name": "graph-pes",
            "language": "python",
            "name": "python3"
        },
        "language_info": {
            "codemirror_mode": {
                "name": "ipython",
                "version": 3
            },
            "file_extension": ".py",
            "mimetype": "text/x-python",
            "name": "python",
            "nbconvert_exporter": "python",
            "pygments_lexer": "ipython3",
            "version": "3.8.18"
        }
    },
    "nbformat": 4,
    "nbformat_minor": 2
}
