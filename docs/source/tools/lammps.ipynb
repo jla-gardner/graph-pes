{
    "cells": [
        {
            "cell_type": "raw",
            "metadata": {
                "raw_mimetype": "text/restructuredtext",
                "vscode": {
                    "languageId": "raw"
                }
            },
            "source": [
                "LAMMPS\n",
                "======\n",
                "\n",
                "`LAMMPS <https://www.lammps.org/>`__ is a **fast** software package for molecular dynamics simulations written in ``C++``.\n",
                "\n",
                "``graph-pes`` provides a ``pair_style`` for LAMMPS to interface **any** model that inherits from :class:`~graph_pes.core.GraphPESModel` - that includes all of the architectures implemented in ``graph-pes``, together with any other ones you implement yourself.\n",
                "\n",
                "To run MD simulations with a ``graph-pes`` model, you need to do 3 things:\n",
                "\n",
                "1. build LAMMPS with support for ``graph_pes``\n",
                "2. \"deploy\" the model for use with LAMMPS\n",
                "3. run LAMMPS with the ``pair_style graph_pes`` command\n",
                "\n",
                "1. Building LAMMPS\n",
                "------------------\n",
                "\n",
                "Compiling LAMMPS can be a pain. \n",
                "\n",
                "To combat this, we provide a `script <https://github.com/jla-gardner/graph-pes/blob/main/scripts/build-lammps.sh>`__ that attempts to automatically build LAMMPS with ``graph_pes`` support. We can't guarantee that this will work in all cases, but we've tested it on various **Linux** machines with success. If you have any issues, please `open an issue <https://github.com/jla-gardner/graph-pes/issues>`__.\n",
                "\n",
                "TODO: talk about paralellisation\n",
                "\n",
                "Let's start by downloading this script and running it with the ``--help`` flag to see what options are available:\n"
            ]
        },
        {
            "cell_type": "code",
            "execution_count": 3,
            "metadata": {},
            "outputs": [
                {
                    "name": "stdout",
                    "output_type": "stream",
                    "text": [
                        "Usage: ../../../scripts/build-lammps.sh [OPTIONS]\n",
                        "\n",
                        "This script builds a LAMMPS executable with support for 'pair_style graph_pes'.\n",
                        "\n",
                        "It performs the following tasks:\n",
                        "  1. Locates the graph-pes installation\n",
                        "  2. Creates a conda environment with necessary dependencies\n",
                        "  3. Clones the LAMMPS repository\n",
                        "  4. Patches LAMMPS with graph-pes source code\n",
                        "  5. Builds LAMMPS with graph-pes support\n",
                        "\n",
                        "The final executable will be located at:\n",
                        "  ./graph_pes_lmp_cpu_only (if --cpu-only is used)\n",
                        "  ./graph_pes_lmp (default, with GPU support)\n",
                        "\n",
                        "Requirements:\n",
                        "  - conda\n",
                        "\n",
                        "Options:\n",
                        "  --help           Display this help message and exit\n",
                        "  --cpu-only       Build LAMMPS for CPU only (default: GPU enabled)\n",
                        "  --force-rebuild  Force rebuilding of conda environment and LAMMPS\n",
                        "\n"
                    ]
                }
            ],
            "source": [
                "# !wget https://raw.githubusercontent.com/jla-gardner/graph-pes/refs/heads/main/scripts/build-lammps.sh\n",
                "# !bash build-lammps.sh --help\n",
                "!bash ../../../scripts/build-lammps.sh --help"
            ]
        },
        {
            "cell_type": "raw",
            "metadata": {
                "raw_mimetype": "text/restructuredtext",
                "vscode": {
                    "languageId": "raw"
                }
            },
            "source": [
                "This ``build-lammps.sh`` script creates a custom, throwaway conda environment to ensure a uniform build process. It you don't have conda installed, you can install it from e.g. `here <https://docs.conda.io/en/latest/miniconda.html>`__.\n",
                "\n",
                ".. dropdown:: Common problems\n",
                "\n",
                "    * ``CMake Error at (...) Failed to detect a default CUDA architecture.``\n",
                "    \n",
                "      This is a common issue when installing on e.g. an HPC system. A simple fix (if available) is to run ``module load cuda`` before running the script.\n",
                "\n",
                "  \n",
                "Now let's build our LAMMPS executable:"
            ]
        },
        {
            "cell_type": "code",
            "execution_count": 4,
            "metadata": {},
            "outputs": [
                {
                    "name": "stdout",
                    "output_type": "stream",
                    "text": [
                        "Running build-lammps.sh with the following parameters:\n",
                        "          CPU_ONLY: false\n",
                        "    FORCE_REBUILD : false\n",
                        "Found graph-pes pair style at (...)/graph_pes/pair_style\n",
                        "Creating conda environment lammps-env-gpu-throwaway\n",
                        "Channels:\n",
                        " - conda-forge\n",
                        " - defaults\n",
                        "Platform: linux-64\n",
                        "Collecting package metadata (repodata.json): ...working... done\n",
                        "Solving environment: ...working... done\n",
                        "\n",
                        "Downloading and Extracting Packages: ...working... done\n",
                        "Preparing transaction: ...working... done\n",
                        "Verifying transaction: ...working... done\n",
                        "Executing transaction: ...working... done\n",
                        "(...)\n",
                        "Installing collected packages: mpmath, typing-extensions, sympy, nvidia-nvtx-cu12, nvidia-nvjitlink-cu12, nvidia-nccl-cu12, nvidia-curand-cu12, nvidia-cufft-cu12, nvidia-cuda-runtime-cu12, nvidia-cuda-nvrtc-cu12, nvidia-cuda-cupti-cu12, nvidia-cublas-cu12, numpy, networkx, MarkupSafe, fsspec, filelock, triton, nvidia-cusparse-cu12, nvidia-cudnn-cu12, jinja2, nvidia-cusolver-cu12, torch\n",
                        "Successfully installed MarkupSafe-3.0.1 filelock-3.16.1 fsspec-2024.9.0 jinja2-3.1.4 mpmath-1.3.0 networkx-3.4.1 numpy-2.1.2 nvidia-cublas-cu12-12.1.3.1 nvidia-cuda-cupti-cu12-12.1.105 nvidia-cuda-nvrtc-cu12-12.1.105 nvidia-cuda-runtime-cu12-12.1.105 nvidia-cudnn-cu12-9.1.0.70 nvidia-cufft-cu12-11.0.2.54 nvidia-curand-cu12-10.3.2.106 nvidia-cusolver-cu12-11.4.5.107 nvidia-cusparse-cu12-12.1.0.106 nvidia-nccl-cu12-2.20.5 nvidia-nvjitlink-cu12-12.6.77 nvidia-nvtx-cu12-12.1.105 sympy-1.13.3 torch-2.4.1 triton-3.0.0 typing-extensions-4.12.2\n",
                        "\n",
                        "done\n",
                        "#\n",
                        "# To activate this environment, use\n",
                        "#\n",
                        "#     $ conda activate lammps-env-gpu-throwaway\n",
                        "#\n",
                        "# To deactivate an active environment, use\n",
                        "#\n",
                        "#     $ conda deactivate\n",
                        "\n",
                        "Conda environment lammps-env-gpu-throwaway successfully activated\n",
                        "Cloning into 'lammps'...\n",
                        "remote: Enumerating objects: 403276, done.\n",
                        "remote: Counting objects: 100% (3486/3486), done.\n",
                        "remote: Compressing objects: 100% (1504/1504), done.\n",
                        "remote: Total 403276 (delta 2317), reused 3036 (delta 1977), pack-reused 399790 (from 1)\n",
                        "Receiving objects: 100% (403276/403276), 757.23 MiB | 52.42 MiB/s, done.\n",
                        "Resolving deltas: 100% (332564/332564), done.\n",
                        "Updating files: 100% (13334/13334), done.\n",
                        "-- The CXX compiler identification is GNU 12.4.0\n",
                        "-- Detecting CXX compiler ABI info\n",
                        "-- Detecting CXX compiler ABI info - done\n",
                        "-- Check for working CXX compiler: (..)/miniconda3/envs/lammps-env-gpu-throwaway/bin/c++ - skipped\n",
                        "-- Detecting CXX compile features\n",
                        "-- Detecting CXX compile features - done\n",
                        "-- Found Git: (...)/miniconda/envs/lammps-env-gpu-throwaway/bin/git (found version \"2.47.0\")\n",
                        "-- Running check for auto-generated files from make-based build system\n",
                        "-- Checking for module 'mpi-cxx'\n",
                        "--   Package 'mpi-cxx', required by 'virtual:world', not found\n",
                        "-- Looking for C++ include omp.h\n",
                        "-- Looking for C++ include omp.h - found\n",
                        "-- Found OpenMP_CXX: -fopenmp (found version \"4.5\")\n",
                        "-- Found OpenMP: TRUE (found version \"4.5\") found components: CXX\n",
                        "-- Found CURL: (...)/miniconda/envs/lammps-env-gpu-throwaway/lib/libcurl.so (found version \"8.10.1\") found components: HTTP HTTPS\n",
                        "-- Found GZIP: /usr/bin/gzip\n",
                        "-- Could NOT find FFMPEG (missing: FFMPEG_EXECUTABLE) \n",
                        "-- Looking for C++ include cmath\n",
                        "-- Looking for C++ include cmath - found\n",
                        "-- Generating style headers...\n",
                        "-- Generating package headers...\n",
                        "-- Generating lmpinstalledpkgs.h...\n",
                        "-- Found Python3: (...)/miniconda/envs/lammps-env-gpu-throwaway/bin/python3.10 (found version \"3.10.15\") found components: Interpreter\n",
                        "-- Could NOT find ClangFormat (missing: ClangFormat_EXECUTABLE) (Required is at least version \"11.0\")\n",
                        "-- The following tools and libraries have been found and configured:\n",
                        " * Git\n",
                        " * OpenMP\n",
                        " * CURL\n",
                        " * Python3\n",
                        "\n",
                        "-- <<< Build configuration >>>\n",
                        "   LAMMPS Version:   20240829 patch_29Aug2024-modified\n",
                        "   Operating System: Linux Rocky 8.9\n",
                        "   CMake Version:    3.30.5\n",
                        "   Build type:       RelWithDebInfo\n",
                        "   Install path:     (...)/.local\n",
                        "   Generator:        Unix Makefiles using /usr/bin/gmake\n",
                        "-- Enabled packages: <None>\n",
                        "-- <<< Compilers and Flags: >>>\n",
                        "-- C++ Compiler:     (...)/miniconda/envs/lammps-env-gpu-throwaway/bin/c++\n",
                        "      Type:          GNU\n",
                        "      Version:       12.4.0\n",
                        "      C++ Standard:  17\n",
                        "      C++ Flags:     -O2 -g -DNDEBUG\n",
                        "      Defines:       LAMMPS_SMALLBIG;LAMMPS_MEMALIGN=64;LAMMPS_OMP_COMPAT=4;LAMMPS_CURL;LAMMPS_GZIP\n",
                        "-- <<< Linker flags: >>>\n",
                        "-- Executable name:  lmp\n",
                        "-- Static library flags:    \n",
                        "-- Found CUDA: /usr/local/cuda-12.2 (found version \"12.2\") \n",
                        "-- The CUDA compiler identification is NVIDIA 12.2.140\n",
                        "-- Detecting CUDA compiler ABI info\n",
                        "-- Detecting CUDA compiler ABI info - done\n",
                        "-- Check for working CUDA compiler: /usr/local/cuda-12.2/bin/nvcc - skipped\n",
                        "-- Detecting CUDA compile features\n",
                        "-- Detecting CUDA compile features - done\n",
                        "-- Found CUDAToolkit: /usr/local/cuda-12.2/include (found version \"12.2.140\")\n",
                        "-- Performing Test CMAKE_HAVE_LIBC_PTHREAD\n",
                        "-- Performing Test CMAKE_HAVE_LIBC_PTHREAD - Failed\n",
                        "-- Looking for pthread_create in pthreads\n",
                        "-- Looking for pthread_create in pthreads - not found\n",
                        "-- Looking for pthread_create in pthread\n",
                        "-- Looking for pthread_create in pthread - found\n",
                        "-- Found Threads: TRUE\n",
                        "-- Caffe2: CUDA detected: 12.2\n",
                        "-- Caffe2: CUDA nvcc is: /usr/local/cuda-12.2/bin/nvcc\n",
                        "-- Caffe2: CUDA toolkit directory: /usr/local/cuda-12.2\n",
                        "-- Caffe2: Header version is: 12.2\n",
                        "-- /usr/local/cuda-12.2/lib64/libnvrtc.so shorthash is 000ca627\n",
                        "-- USE_CUDNN is set to 0. Compiling without cuDNN support\n",
                        "-- USE_CUSPARSELT is set to 0. Compiling without cuSPARSELt support\n",
                        "-- Autodetected CUDA architecture(s):  8.6 8.6\n",
                        "-- Added CUDA NVCC flags for: -gencode;arch=compute_86,code=sm_86\n",
                        "-- Found Torch: (...)/miniconda/envs/lammps-env-gpu-throwaway/lib/python3.10/site-packages/torch/lib/libtorch.so\n",
                        "-- Configuring done (4.9s)\n",
                        "-- Generating done (0.0s)\n",
                        "-- Build files have been written to: (...)/graph-pes/ignore/lammps/build\n",
                        "Building LAMMPS executable\n",
                        "(...)\n",
                        "[ 98%] Linking CXX static library liblammps.a\n",
                        "[ 98%] Built target lammps\n",
                        "[ 98%] Building CXX object CMakeFiles/lmp.dir(...)/graph-pes/ignore/lammps/src/main.cpp.o\n",
                        "[100%] Linking CXX executable lmp\n",
                        "[100%] Built target lmp\n",
                        "LAMMPS executable successfully built with graph-pes, and is available at ./graph_pes_lmp\n",
                        "\n"
                    ]
                }
            ],
            "source": [
                "!bash build-lammps.sh"
            ]
        },
        {
            "cell_type": "markdown",
            "metadata": {},
            "source": [
                "We can check that our ``graph_pes_lmp`` executable works by inspecting the list of available ``pair_style`` modules:"
            ]
        },
        {
            "cell_type": "code",
            "execution_count": 6,
            "metadata": {},
            "outputs": [
                {
                    "name": "stdout",
                    "output_type": "stream",
                    "text": [
                        "* Pair styles:\n",
                        "\n",
                        "born            buck            buck/coul/cut   coul/cut        coul/debye      \n",
                        "coul/dsf        coul/wolf       meam/c          reax            reax/c          \n",
                        "mesont/tpm      graph_pes       hybrid          hybrid/omp      hybrid/molecular                \n",
                        "hybrid/molecular/omp            hybrid/overlay  hybrid/overlay/omp              \n",
                        "hybrid/scaled   hybrid/scaled/omp               lj/cut          lj/cut/coul/cut \n",
                        "lj/expand       morse           soft            table           yukawa          \n",
                        "zbl             zero \n"
                    ]
                }
            ],
            "source": [
                "!./graph_pes_lmp -h | grep -A8 \"* Pair styles:\""
            ]
        },
        {
            "cell_type": "raw",
            "metadata": {
                "raw_mimetype": "text/restructuredtext",
                "vscode": {
                    "languageId": "raw"
                }
            },
            "source": [
                "Success!\n",
                "\n",
                "2. Model deployment\n",
                "-------------------\n",
                "\n",
                "To use a :class:`~graph_pes.core.GraphPESModel` with LAMMPS, we need to first convert it to a format that LAMMPS can understand. This involves compiling the ``PyTorch`` object into a ``C++`` object using ``TorchScript``. All function and classes provided by ``graph-pes`` are compatible with this process.\n",
                "\n",
                "By default, the `graph-pes-train <../cli/graph-pes-train>`__ command saves a deployed model to ``<output-dir>/lammps_model.pt``. We can also deplot models from within ``Python`` using the :func:`~graph_pes.deploy.deploy_model` function.\n",
                "\n",
                "Let's create a simple :class:`~graph_pes.models.LennardJones` model and deploy it for use in LAMMPS:"
            ]
        },
        {
            "cell_type": "code",
            "execution_count": 21,
            "metadata": {},
            "outputs": [],
            "source": [
                "from graph_pes.deploy import deploy_model\n",
                "from graph_pes.models import LennardJones\n",
                "\n",
                "model = LennardJones(epsilon=0.4, sigma=1.2, cutoff=5.0)\n",
                "deploy_model(model, \"lj_model_lammps.pt\")"
            ]
        },
        {
            "cell_type": "code",
            "execution_count": 22,
            "metadata": {},
            "outputs": [
                {
                    "name": "stdout",
                    "output_type": "stream",
                    "text": [
                        "lj_model_lammps.pt\n"
                    ]
                }
            ],
            "source": [
                "!ls | grep \".*pt\""
            ]
        },
        {
            "cell_type": "raw",
            "metadata": {
                "raw_mimetype": "text/restructuredtext",
                "vscode": {
                    "languageId": "raw"
                }
            },
            "source": [
                "3. Running MD\n",
                "-------------\n",
                "\n",
                "Let's run an simple \"NVT\" simulation of a copper crystal using our Lennard-Jones potential.\n"
            ]
        },
        {
            "cell_type": "code",
            "execution_count": 15,
            "metadata": {},
            "outputs": [],
            "source": [
                "from ase.build import bulk\n",
                "\n",
                "atoms = bulk(\"Cu\", \"hcp\", a=3.6, c=5.8)\n",
                "atoms = atoms.repeat(3)\n",
                "atoms.write(\"starting-structure.data\", format=\"lammps-data\")"
            ]
        },
        {
            "cell_type": "code",
            "execution_count": 20,
            "metadata": {},
            "outputs": [
                {
                    "name": "stdout",
                    "output_type": "stream",
                    "text": [
                        "starting-structure.data (written by ASE) \n",
                        "\n",
                        "54 \t atoms \n",
                        "1  atom types\n",
                        "0.0      10.800000000000001  xlo xhi\n",
                        "0.0      9.3530743608719362  ylo yhi\n",
                        "0.0      17.399999999999999  zlo zhi\n",
                        "    -5.4000000000000004                       0                       0  xy xz yz\n",
                        "\n",
                        "\n",
                        "Atoms \n",
                        "\n",
                        "     1   1                       0                       0                       0\n",
                        "     2   1 -7.4014868308343753e-18      2.0784609690826525      2.8999999999999999\n",
                        "     3   1                       0                       0      5.7999999999999998\n"
                    ]
                }
            ],
            "source": [
                "!cat starting-structure.data | head -n 15"
            ]
        },
        {
            "cell_type": "code",
            "execution_count": 23,
            "metadata": {},
            "outputs": [],
            "source": [
                "\n",
                "\n",
                "input_script = \"\"\"\n",
                "# a basic NVT simulation using pair_style graph_pes\n",
                "# \n",
                "# expected variables:\n",
                "#   output_dir: path to output directory\n",
                "#   temp_K: target temperature in K\n",
                "#   model_file: path to model file\n",
                "#   atom_types: list of element symbols\n",
                "#   data_file: path to input data file\n",
                "\n",
                "\n",
                "log ${output_dir}/log.lammps\n",
                "\n",
                "# Set units to 'real' for atomic units (fs, kcal/mol, etc.)\n",
                "units metal\n",
                "atom_style atomic\n",
                "newton off\n",
                "\n",
                "# Read initial structure from data file\n",
                "read_data ${data_file}\n",
                "\n",
                "# Define graph-pes pair style\n",
                "pair_style      graph_pes\n",
                "pair_coeff      * * ${model_file} ${atom_types}\n",
                "\n",
                "# Define neighbor list\n",
                "neighbor 0.5 bin\n",
                "neigh_modify delay 0 every 1 check yes\n",
                "\n",
                "# timestep of 1 fs\n",
                "timestep 0.001\n",
                "\n",
                "# Setup NVT ensemble with Nose-Hoover thermostat\n",
                "# relaxation time of 10 fs\n",
                "fix 1 all nvt temp ${temp_K} ${temp_K} 0.01\n",
                "\n",
                "# Dump output every 50 timesteps\n",
                "dump 1 all atom 50 ${output_dir}/dumps/*.data\n",
                "\n",
                "# Thermodynamic output every 100 steps\n",
                "thermo 100\n",
                "thermo_style custom step time temp etotal press\n",
                "\n",
                "# Run for 10 ps\n",
                "run 10000\n",
                "\"\"\"\n",
                "\n",
                "!echo \"${input_script}\" > lammps_input.in"
            ]
        },
        {
            "cell_type": "code",
            "execution_count": null,
            "metadata": {},
            "outputs": [],
            "source": [
                "%% bash\n",
                "\n",
                "mkdir -p nvt-simulation/dumps\n",
                "./graph_pes_lmp -in lammps_input.in \\\n",
                "  output_dir=\"nvt-simulation\" \\\n",
                "  temp_K=400 \\\n",
                "  model_file=\"lj_model_lammps.pt\" \\\n",
                "  atom_types=\"Cu\" \\\n",
                "  data_file=\"starting-structure.data\""
            ]
        }
    ],
    "metadata": {
        "kernelspec": {
            "display_name": "graph-pes",
            "language": "python",
            "name": "python3"
        },
        "language_info": {
            "codemirror_mode": {
                "name": "ipython",
                "version": 3
            },
            "file_extension": ".py",
            "mimetype": "text/x-python",
            "name": "python",
            "nbconvert_exporter": "python",
            "pygments_lexer": "ipython3",
            "version": "3.8.18"
        }
    },
    "nbformat": 4,
    "nbformat_minor": 2
}
