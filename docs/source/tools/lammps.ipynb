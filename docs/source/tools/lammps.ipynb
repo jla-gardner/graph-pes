{
 "cells": [
  {
   "cell_type": "raw",
   "metadata": {
    "vscode": {
     "languageId": "raw"
    }
   },
   "source": [
    "LAMMPS\n",
    "======\n",
    "\n",
    "[LAMMPS](https://www.lammps.org/) is a **fast** software package for molecular dynamics simulations written in ``C++``.\n",
    "\n",
    "``graph-pes`` provides a ``pair_style`` for LAMMPS to interface **any** model that inherits from :class:`~graph_pes.core.GraphPESModel` - that includes all of the architectures implemented in ``graph-pes``, together with any other ones you implement yourself."
   ]
  },
  {
   "cell_type": "code",
   "execution_count": 2,
   "metadata": {},
   "outputs": [
    {
     "name": "stdout",
     "output_type": "stream",
     "text": [
      "Found graph-pes pair style at /Users/john/projects/graph-pes/src/graph_pes/pair_style\n",
      "Usage: build-lammps.sh [OPTIONS]\n",
      "\n",
      "This script builds a LAMMPS executable with support for 'pair_style graph_pes'.\n",
      "\n",
      "It performs the following tasks:\n",
      "  1. Locates the graph-pes installation\n",
      "  2. Creates a conda environment with necessary dependencies\n",
      "  3. Clones the LAMMPS repository\n",
      "  4. Patches LAMMPS with graph-pes source code\n",
      "  5. Builds LAMMPS with graph-pes support\n",
      "\n",
      "Options:\n",
      "  --help           Display this help message and exit\n",
      "  --cpu-only       Build LAMMPS for CPU only (default: GPU enabled)\n",
      "  --force-rebuild  Force rebuilding of conda environment and LAMMPS\n",
      "\n",
      "The final executable will be located at:\n",
      "  ./graph_pes_lmp_cpu_only (if --cpu-only is used)\n",
      "  ./graph_pes_lmp (default, with GPU support)\n"
     ]
    }
   ],
   "source": [
    "# !wget https://raw.githubusercontent.com/jla-gardner/graph-pes/refs/heads/main/scripts/build-lammps.sh\n",
    "!bash build-lammps.sh --help"
   ]
  },
  {
   "cell_type": "markdown",
   "metadata": {},
   "source": []
  },
  {
   "cell_type": "code",
   "execution_count": null,
   "metadata": {},
   "outputs": [],
   "source": []
  }
 ],
 "metadata": {
  "kernelspec": {
   "display_name": "graph-pes",
   "language": "python",
   "name": "python3"
  },
  "language_info": {
   "codemirror_mode": {
    "name": "ipython",
    "version": 3
   },
   "file_extension": ".py",
   "mimetype": "text/x-python",
   "name": "python",
   "nbconvert_exporter": "python",
   "pygments_lexer": "ipython3",
   "version": "3.8.18"
  }
 },
 "nbformat": 4,
 "nbformat_minor": 2
}
