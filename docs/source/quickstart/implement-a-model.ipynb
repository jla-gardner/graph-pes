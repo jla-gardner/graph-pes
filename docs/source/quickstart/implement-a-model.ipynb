{
 "cells": [
  {
   "cell_type": "code",
   "execution_count": 12,
   "metadata": {
    "nbsphinx": "hidden"
   },
   "outputs": [],
   "source": [
    "!rm -rf graph-pes-results/custom-model-run*\n",
    "!rm -rf custom_model.py\n",
    "!rm -rf config.yaml"
   ]
  },
  {
   "cell_type": "markdown",
   "metadata": {},
   "source": [
    "# Implement a model\n",
    "\n",
    "\n",
    "\n"
   ]
  },
  {
   "cell_type": "code",
   "execution_count": 2,
   "metadata": {},
   "outputs": [
    {
     "name": "stdout",
     "output_type": "stream",
     "text": [
      "Writing custom_model.py\n"
     ]
    }
   ],
   "source": [
    "%%writefile custom_model.py\n",
    "\n",
    "from __future__ import annotations\n",
    "\n",
    "import torch\n",
    "from graph_pes import AtomicGraph, GraphPESModel\n",
    "from graph_pes.atomic_graph import (\n",
    "    PropertyKey,\n",
    "    index_over_neighbours,\n",
    "    neighbour_distances,\n",
    "    sum_over_neighbours,\n",
    ")\n",
    "from graph_pes.models.components.distances import Bessel, PolynomialEnvelope\n",
    "from graph_pes.utils.nn import MLP, PerElementEmbedding\n",
    "\n",
    "\n",
    "class CustomModel(GraphPESModel):\n",
    "    def __init__(\n",
    "        self,\n",
    "        cutoff: float,\n",
    "        channels: int,\n",
    "        radial_features: int,\n",
    "    ):\n",
    "        super().__init__(\n",
    "            cutoff,\n",
    "            implemented_properties=[\"local_energies\"],\n",
    "        )\n",
    "\n",
    "        # node embeddings\n",
    "        self.Z_embedding = PerElementEmbedding(channels)\n",
    "\n",
    "        # messages\n",
    "        self.radial_basis = Bessel(radial_features, cutoff)\n",
    "        self.envelope = PolynomialEnvelope(cutoff)\n",
    "        self.message = MLP(\n",
    "            layers=[\n",
    "                radial_features + channels,\n",
    "                2 * channels,\n",
    "                2 * channels,\n",
    "                channels,\n",
    "            ],\n",
    "            activation=\"CELU\",\n",
    "            bias=False,\n",
    "        )\n",
    "\n",
    "        # readout\n",
    "        self.readout = MLP(\n",
    "            layers=[channels, channels, 1],\n",
    "            activation=\"CELU\",\n",
    "        )\n",
    "\n",
    "    def forward(self, graph: AtomicGraph) -> dict[PropertyKey, torch.Tensor]:\n",
    "        # compute the local energies\n",
    "        # assume that the input graph has N atoms, E edges\n",
    "        # and denote the number of radial features as R\n",
    "        # and the number of channels as C\n",
    "\n",
    "        # 1. embed node features\n",
    "        h = self.Z_embedding(graph.Z)  # (N, C)\n",
    "\n",
    "        # 2. expand distances\n",
    "        r = neighbour_distances(graph)  # (E,)\n",
    "        r_features = self.radial_basis(r)  # (E, R)\n",
    "        r_features = self.envelope(r_features)  # (E, R)\n",
    "\n",
    "        # 3. create neigbour embeddings\n",
    "        h_neighbour = index_over_neighbours(h, graph)  # (E, C)\n",
    "        neighbour_embeddings = torch.cat(\n",
    "            [h_neighbour, r_features], dim=-1\n",
    "        )  # (E, C + R)\n",
    "\n",
    "        # 4. create messages\n",
    "        messages = self.message(neighbour_embeddings)  # (E, C)\n",
    "\n",
    "        # 5. aggregate messages\n",
    "        aggregated_messages = sum_over_neighbours(messages, graph)  # (N, C)\n",
    "\n",
    "        # 6. update node embeddings\n",
    "        h = h + aggregated_messages  # (N, C)\n",
    "\n",
    "        # 7. readout\n",
    "        local_energies = self.readout(h).squeeze(-1)  # (N,)\n",
    "\n",
    "        return {\"local_energies\": local_energies}"
   ]
  },
  {
   "cell_type": "code",
   "execution_count": 3,
   "metadata": {},
   "outputs": [
    {
     "data": {
      "text/plain": [
       "{'local_energies': tensor([-0.3244, -0.3394, -0.3394], grad_fn=<SqueezeBackward1>)}"
      ]
     },
     "execution_count": 3,
     "metadata": {},
     "output_type": "execute_result"
    }
   ],
   "source": [
    "from ase.build import molecule\n",
    "from custom_model import CustomModel\n",
    "from graph_pes import AtomicGraph\n",
    "\n",
    "model = CustomModel(cutoff=5.0, channels=3, radial_features=8)\n",
    "graph = AtomicGraph.from_ase(molecule(\"H2O\"))\n",
    "model(graph)"
   ]
  },
  {
   "cell_type": "code",
   "execution_count": 4,
   "metadata": {},
   "outputs": [
    {
     "data": {
      "text/plain": [
       "{'energy': tensor(-1.0031, grad_fn=<SumBackward1>),\n",
       " 'forces': tensor([[-0.0000e+00, -2.7285e-12,  5.3379e-05],\n",
       "         [-0.0000e+00,  3.1064e-05, -2.6689e-05],\n",
       "         [-0.0000e+00, -3.1064e-05, -2.6689e-05]], grad_fn=<NegBackward0>),\n",
       " 'local_energies': tensor([-0.3244, -0.3394, -0.3394], grad_fn=<SqueezeBackward1>)}"
      ]
     },
     "execution_count": 4,
     "metadata": {},
     "output_type": "execute_result"
    }
   ],
   "source": [
    "model.get_all_PES_predictions(graph)"
   ]
  },
  {
   "cell_type": "code",
   "execution_count": 5,
   "metadata": {},
   "outputs": [
    {
     "data": {
      "application/vnd.jupyter.widget-view+json": {
       "model_id": "96da591250924c7b9c0ac594c4141a92",
       "version_major": 2,
       "version_minor": 0
      },
      "text/plain": [
       "Output()"
      ]
     },
     "metadata": {},
     "output_type": "display_data"
    },
    {
     "data": {
      "text/html": [
       "<pre style=\"white-space:pre;overflow-x:auto;line-height:normal;font-family:Menlo,'DejaVu Sans Mono',consolas,'Courier New',monospace\"></pre>\n"
      ],
      "text/plain": []
     },
     "metadata": {},
     "output_type": "display_data"
    }
   ],
   "source": [
    "from ase.io import write\n",
    "from load_atoms import load_dataset\n",
    "\n",
    "dataset = load_dataset(\"QM7\")\n",
    "train, val, test = dataset.random_split([1000, 100, 500])\n",
    "write(\"train.xyz\", train)\n",
    "write(\"val.xyz\", val)"
   ]
  },
  {
   "cell_type": "code",
   "execution_count": 6,
   "metadata": {},
   "outputs": [
    {
     "name": "stdout",
     "output_type": "stream",
     "text": [
      "Writing config.yaml\n"
     ]
    }
   ],
   "source": [
    "%%writefile config.yaml\n",
    "\n",
    "model:\n",
    "    custom_model.CustomModel:\n",
    "        cutoff: 5.0\n",
    "        channels: 3\n",
    "        radial_features: 8\n",
    "\n",
    "data:\n",
    "    train:\n",
    "        graph_pes.data.file_dataset:\n",
    "            path: train.xyz\n",
    "            cutoff: 5.0\n",
    "    valid:\n",
    "        graph_pes.data.file_dataset:\n",
    "            path: val.xyz\n",
    "            cutoff: 5.0\n",
    "\n",
    "loss: graph_pes.training.loss.PerAtomEnergyLoss()\n",
    "\n",
    "fitting:\n",
    "    trainer_kwargs:\n",
    "        max_epochs: 150\n",
    "        accelerator: cpu\n",
    "        check_val_every_n_epoch: 5\n",
    "\n",
    "    optimizer:\n",
    "        graph_pes.training.opt.Optimizer:\n",
    "            name: AdamW\n",
    "            lr: 0.001\n",
    "    \n",
    "    loader_kwargs:\n",
    "        batch_size: 64\n",
    "\n",
    "general:\n",
    "    run_id: custom-model-run\n",
    "    progress: logged\n",
    "\n",
    "wandb: null\n"
   ]
  },
  {
   "cell_type": "code",
   "execution_count": 7,
   "metadata": {},
   "outputs": [
    {
     "name": "stderr",
     "output_type": "stream",
     "text": [
      "Seed set to 42\n"
     ]
    },
    {
     "name": "stdout",
     "output_type": "stream",
     "text": [
      "[graph-pes INFO]: Set logging level to INFO\n",
      "[graph-pes INFO]: Started training at 2024-10-30 10:31:14.183\n",
      "[graph-pes INFO]: Output directory: graph-pes-results/custom-model-run\n",
      "[graph-pes INFO]: Logging using <pytorch_lightning.loggers.csv_logs.CSVLogger object at 0x16d10ddf0>\n"
     ]
    },
    {
     "name": "stderr",
     "output_type": "stream",
     "text": [
      "GPU available: True (mps), used: False\n",
      "TPU available: False, using: 0 TPU cores\n",
      "HPU available: False, using: 0 HPUs\n",
      "/opt/miniconda3/envs/graph-pes/lib/python3.8/site-packages/pytorch_lightning/trainer/setup.py:177: GPU available but not used. You can set it by doing `Trainer(accelerator='gpu')`.\n"
     ]
    },
    {
     "name": "stdout",
     "output_type": "stream",
     "text": [
      "[graph-pes INFO]: Logging to graph-pes-results/custom-model-run/logs/rank-0.log\n",
      "[graph-pes INFO]: \n",
      "model:\n",
      "   custom_model.CustomModel:\n",
      "      cutoff: 5.0\n",
      "      channels: 3\n",
      "      radial_features: 8\n",
      "data:\n",
      "   train:\n",
      "      graph_pes.data.file_dataset:\n",
      "         path: train.xyz\n",
      "         cutoff: 5.0\n",
      "   valid:\n",
      "      graph_pes.data.file_dataset:\n",
      "         path: val.xyz\n",
      "         cutoff: 5.0\n",
      "loss: graph_pes.training.loss.PerAtomEnergyLoss()\n",
      "fitting:\n",
      "   pre_fit_model: true\n",
      "   max_n_pre_fit: 5000\n",
      "   early_stopping_patience: null\n",
      "   trainer_kwargs:\n",
      "      max_epochs: 150\n",
      "      accelerator: cpu\n",
      "      enable_model_summary: false\n",
      "      check_val_every_n_epoch: 5\n",
      "   loader_kwargs:\n",
      "      num_workers: 0\n",
      "      persistent_workers: false\n",
      "      batch_size: 64\n",
      "      pin_memory: false\n",
      "   optimizer:\n",
      "      graph_pes.training.opt.Optimizer:\n",
      "         name: AdamW\n",
      "         lr: 0.001\n",
      "   scheduler: null\n",
      "   swa: null\n",
      "general:\n",
      "   seed: 42\n",
      "   root_dir: graph-pes-results\n",
      "   run_id: custom-model-run\n",
      "   log_level: INFO\n",
      "   progress: logged\n",
      "wandb: null\n",
      "\n",
      "[graph-pes INFO]: \n",
      "FittingData(\n",
      "  train=ASEDataset(1,000, properties=['energy']),\n",
      "  valid=ASEDataset(100, properties=['energy'])\n",
      ")\n",
      "\n",
      "[graph-pes INFO]: Optimizer(name=\"AdamW\", lr=0.001)\n",
      "[graph-pes INFO]: No LR scheduler.\n",
      "[graph-pes INFO]: \n",
      "TotalLoss:\n",
      "    (weight) : (loss)\n",
      "         1.0 : PerAtomEnergyLoss(\"energy\", metric=RMSE())\n",
      "\n",
      "[graph-pes INFO]: Starting training on rank 0.\n",
      "[graph-pes INFO]: Preparing data\n"
     ]
    },
    {
     "name": "stderr",
     "output_type": "stream",
     "text": [
      "/opt/miniconda3/envs/graph-pes/lib/python3.8/site-packages/torch/storage.py:414: FutureWarning: You are using `torch.load` with `weights_only=False` (the current default value), which uses the default pickle module implicitly. It is possible to construct malicious pickle data which will execute arbitrary code during unpickling (See https://github.com/pytorch/pytorch/blob/main/SECURITY.md#untrusted-models for more details). In a future release, the default value for `weights_only` will be flipped to `True`. This limits the functions that could be executed during unpickling. Arbitrary objects will no longer be allowed to be loaded via this mode unless they are explicitly allowlisted by the user via `torch.serialization.add_safe_globals`. We recommend you start setting `weights_only=True` for any use case where you don't have full control of the loaded file. Please open an issue on GitHub for any issues related to this experimental feature.\n",
      "  return torch.load(io.BytesIO(b))\n"
     ]
    },
    {
     "name": "stdout",
     "output_type": "stream",
     "text": [
      "[graph-pes INFO]: Setting up datasets\n",
      "[graph-pes INFO]: Pre-fitting the model on 1,000 samples\n",
      "[graph-pes INFO]: \n",
      "Model:\n",
      "CustomModel(\n",
      "  (Z_embedding): PerElementEmbedding(\n",
      "    dim=3,\n",
      "    elements=['H', 'C', 'N', 'O', 'S']\n",
      "  )\n",
      "  (radial_basis): Bessel(n_features=8, cutoff=5.0, trainable=True)\n",
      "  (envelope): PolynomialEnvelope(cutoff=5.0, p=6)\n",
      "  (message): MLP(11 → 6 → 6 → 3, activation=CELU(alpha=1.0))\n",
      "  (readout): MLP(3 → 3 → 1, activation=CELU(alpha=1.0))\n",
      ")\n",
      "\n",
      "[graph-pes INFO]: Number of learnable params : 159\n"
     ]
    },
    {
     "name": "stderr",
     "output_type": "stream",
     "text": [
      "/opt/miniconda3/envs/graph-pes/lib/python3.8/site-packages/pytorch_lightning/trainer/connectors/data_connector.py:424: The 'val_dataloader' does not have many workers which may be a bottleneck. Consider increasing the value of the `num_workers` argument` to `num_workers=7` in the `DataLoader` to improve performance.\n",
      "/opt/miniconda3/envs/graph-pes/lib/python3.8/site-packages/pytorch_lightning/trainer/connectors/data_connector.py:424: The 'train_dataloader' does not have many workers which may be a bottleneck. Consider increasing the value of the `num_workers` argument` to `num_workers=7` in the `DataLoader` to improve performance.\n",
      "/opt/miniconda3/envs/graph-pes/lib/python3.8/site-packages/pytorch_lightning/loops/fit_loop.py:298: The number of training batches (16) is smaller than the logging interval Trainer(log_every_n_steps=50). Set a lower value for log_every_n_steps if you want to see logs for the training epoch.\n"
     ]
    },
    {
     "name": "stdout",
     "output_type": "stream",
     "text": [
      "                            valid/metrics   timer/its_per_s   timer/its_per_s\n",
      "   epoch      time   per_atom_energy_rmse             train             valid\n",
      "       4       0.8                0.75332         200.00000         291.66669\n",
      "       9       1.6                0.69501         142.85715         291.66669\n",
      "      14       2.3                0.62171         166.66667         291.66669\n",
      "      19       3.1                0.49764         200.00000         291.66669\n",
      "      24       3.8                0.31937         166.66667         416.66669\n",
      "      29       4.6                0.22743         166.66667         291.66669\n",
      "      34       5.3                0.21521         200.00000         291.66669\n",
      "      39       6.0                0.18348         166.66667         291.66669\n",
      "      44       6.8                0.16561         166.66667         291.66669\n",
      "      49       7.5                0.15000         166.66667         375.00000\n",
      "      54       8.3                0.14105         166.66667         291.66669\n",
      "      59       9.0                0.13592         166.66667         291.66669\n",
      "      64       9.8                0.12047         142.85715         291.66669\n",
      "      69      10.6                0.12070         166.66667         416.66669\n",
      "      74      11.3                0.10927         166.66667         333.33334\n",
      "      79      12.0                0.10993         166.66667         333.33334\n",
      "      84      12.8                0.12864         200.00000         416.66669\n",
      "      89      13.5                0.10497         166.66667         291.66669\n",
      "      94      14.2                0.09558         200.00000         333.33334\n",
      "      99      14.9                0.09311         200.00000         416.66669\n",
      "     104      15.6                0.09640         200.00000         375.00000\n",
      "     109      16.4                0.09132         142.85715         266.66669\n",
      "     114      17.2                0.10062         142.85715         333.33334\n",
      "     119      18.0                0.09113         166.66667         291.66669\n",
      "     124      18.7                0.08976         200.00000         416.66669\n",
      "     129      19.4                0.08885         166.66667         416.66669\n",
      "     134      20.1                0.10396         166.66667         291.66669\n",
      "     139      20.9                0.08977         200.00000         375.00000\n",
      "     144      21.6                0.08533         142.85715         266.66669\n",
      "     149      22.4                0.09281         125.00000         291.66669\n"
     ]
    },
    {
     "name": "stderr",
     "output_type": "stream",
     "text": [
      "`Trainer.fit` stopped: `max_epochs=150` reached.\n"
     ]
    },
    {
     "name": "stdout",
     "output_type": "stream",
     "text": [
      "[graph-pes INFO]: Loading best weights from \"/Users/john/projects/graph-pes/docs/source/quickstart/graph-pes-results/custom-model-run/checkpoints/best.ckpt\"\n"
     ]
    },
    {
     "name": "stderr",
     "output_type": "stream",
     "text": [
      "/Users/john/projects/graph-pes/src/graph_pes/training/ptl.py:258: FutureWarning: You are using `torch.load` with `weights_only=False` (the current default value), which uses the default pickle module implicitly. It is possible to construct malicious pickle data which will execute arbitrary code during unpickling (See https://github.com/pytorch/pytorch/blob/main/SECURITY.md#untrusted-models for more details). In a future release, the default value for `weights_only` will be flipped to `True`. This limits the functions that could be executed during unpickling. Arbitrary objects will no longer be allowed to be loaded via this mode unless they are explicitly allowlisted by the user via `torch.serialization.add_safe_globals`. We recommend you start setting `weights_only=True` for any use case where you don't have full control of the loaded file. Please open an issue on GitHub for any issues related to this experimental feature.\n",
      "  checkpoint = torch.load(path)\n"
     ]
    },
    {
     "name": "stdout",
     "output_type": "stream",
     "text": [
      "[graph-pes INFO]: Training complete.\n",
      "[graph-pes INFO]: Model saved to graph-pes-results/custom-model-run/model.pt\n",
      "[graph-pes INFO]: Deploying model for use with LAMMPS to graph-pes-results/custom-model-run/lammps_model.pt\n"
     ]
    }
   ],
   "source": [
    "%%bash\n",
    "\n",
    "export GRAPH_PES_ALLOW_IMPORT=custom_model\n",
    "graph-pes-train config.yaml"
   ]
  },
  {
   "cell_type": "code",
   "execution_count": 10,
   "metadata": {},
   "outputs": [
    {
     "name": "stderr",
     "output_type": "stream",
     "text": [
      "/Users/john/projects/graph-pes/src/graph_pes/models/__init__.py:114: FutureWarning: You are using `torch.load` with `weights_only=False` (the current default value), which uses the default pickle module implicitly. It is possible to construct malicious pickle data which will execute arbitrary code during unpickling (See https://github.com/pytorch/pytorch/blob/main/SECURITY.md#untrusted-models for more details). In a future release, the default value for `weights_only` will be flipped to `True`. This limits the functions that could be executed during unpickling. Arbitrary objects will no longer be allowed to be loaded via this mode unless they are explicitly allowlisted by the user via `torch.serialization.add_safe_globals`. We recommend you start setting `weights_only=True` for any use case where you don't have full control of the loaded file. Please open an issue on GitHub for any issues related to this experimental feature.\n",
      "  return torch.load(path)\n"
     ]
    },
    {
     "data": {
      "text/plain": [
       "CustomModel(\n",
       "  (Z_embedding): PerElementEmbedding(\n",
       "    dim=3,\n",
       "    elements=['H', 'C', 'N', 'O', 'S']\n",
       "  )\n",
       "  (radial_basis): Bessel(n_features=8, cutoff=5.0, trainable=True)\n",
       "  (envelope): PolynomialEnvelope(cutoff=5.0, p=6)\n",
       "  (message): MLP(11 → 6 → 6 → 3, activation=CELU(alpha=1.0))\n",
       "  (readout): MLP(3 → 3 → 1, activation=CELU(alpha=1.0))\n",
       ")"
      ]
     },
     "execution_count": 10,
     "metadata": {},
     "output_type": "execute_result"
    }
   ],
   "source": [
    "from graph_pes.models import load_model\n",
    "\n",
    "model = load_model(\"graph-pes-results/custom-model-run/model.pt\")\n",
    "model"
   ]
  },
  {
   "cell_type": "code",
   "execution_count": 11,
   "metadata": {},
   "outputs": [
    {
     "data": {
      "image/png": "[encoded data removed]",
      "text/plain": [
       "<Figure size 350x300 with 1 Axes>"
      ]
     },
     "metadata": {
      "image/png": {
       "height": 308,
       "width": 376
      }
     },
     "output_type": "display_data"
    }
   ],
   "source": [
    "from graph_pes.atomic_graph import divide_per_atom\n",
    "from graph_pes.utils.analysis import parity_plot\n",
    "\n",
    "%config InlineBackend.figure_format = 'retina'\n",
    "\n",
    "test_graphs = [AtomicGraph.from_ase(s, cutoff=model.cutoff.item()) for s in test]\n",
    "parity_plot(\n",
    "    model,\n",
    "    test_graphs,\n",
    "    property=\"energy\",\n",
    "    transform=divide_per_atom,\n",
    "    units=\"eV/atom\",\n",
    ")"
   ]
  }
 ],
 "metadata": {
  "kernelspec": {
   "display_name": "graph-pes",
   "language": "python",
   "name": "python3"
  },
  "language_info": {
   "codemirror_mode": {
    "name": "ipython",
    "version": 3
   },
   "file_extension": ".py",
   "mimetype": "text/x-python",
   "name": "python",
   "nbconvert_exporter": "python",
   "pygments_lexer": "ipython3",
   "version": "3.8.18"
  }
 },
 "nbformat": 4,
 "nbformat_minor": 2
}
