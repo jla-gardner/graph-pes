{
 "cells": [
  {
   "cell_type": "markdown",
   "metadata": {},
   "source": [
    "# Implement a model\n",
    "\n",
    "\n",
    "\n"
   ]
  },
  {
   "cell_type": "markdown",
   "metadata": {},
   "source": [
    "## Local energy model"
   ]
  },
  {
   "cell_type": "code",
   "execution_count": null,
   "metadata": {},
   "outputs": [],
   "source": [
    "import torch\n",
    "from graph_pes.core import LocalEnergyModel\n",
    "from graph_pes.nn import MLP\n",
    "\n",
    "class CustomModel(LocalEnergyModel):\n",
    "    def __init__(self, cutoff: float):\n",
    "        super().__init__(cutoff, auto_scale=True)\n",
    "\n",
    "        self.mlp "
   ]
  },
  {
   "cell_type": "markdown",
   "metadata": {},
   "source": [
    "## Direct prediction"
   ]
  }
 ],
 "metadata": {
  "kernelspec": {
   "display_name": "graph-pes",
   "language": "python",
   "name": "python3"
  },
  "language_info": {
   "name": "python",
   "version": "3.8.18"
  }
 },
 "nbformat": 4,
 "nbformat_minor": 2
}
