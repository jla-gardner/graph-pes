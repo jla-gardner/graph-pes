{
    "cells": [
        {
            "cell_type": "markdown",
            "metadata": {},
            "source": [
                "# Train a model"
            ]
        },
        {
            "cell_type": "raw",
            "metadata": {
                "raw_mimetype": "text/restructuredtext",
                "vscode": {
                    "languageId": "raw"
                }
            },
            "source": [
                "``graph-pes-train`` provides a unified interface to train any :class:`~graph_pes.core.GraphPESModel`, including those packaged within :doc:`graph_pes.models <../models/root>` and those defined by you, the user.\n",
                "\n",
                ".. seealso::\n",
                "\n",
                "    For more information on the ``graph-pes-train`` command, and the plethora of options available for specification in your ``config.yaml`` see the :ref:`CLI reference <cli-reference>`."
            ]
        },
        {
            "cell_type": "markdown",
            "metadata": {},
            "source": [
                "## Installation"
            ]
        },
        {
            "cell_type": "code",
            "execution_count": 1,
            "metadata": {},
            "outputs": [
                {
                    "name": "stdout",
                    "output_type": "stream",
                    "text": [
                        "Successfully installed graph-pes-0.0.1\n"
                    ]
                }
            ],
            "source": [
                "%%bash\n",
                "\n",
                "pip install graph-pes | tail -n 1"
            ]
        },
        {
            "cell_type": "markdown",
            "metadata": {},
            "source": [
                "We now should have access to the ``graph-pes-train`` command. We can check this by running:"
            ]
        },
        {
            "cell_type": "code",
            "execution_count": 1,
            "metadata": {},
            "outputs": [
                {
                    "name": "stdout",
                    "output_type": "stream",
                    "text": [
                        "usage: graph-pes-train [-h] [args [args ...]]\n",
                        "\n",
                        "Train a GraphPES model using PyTorch Lightning.\n",
                        "\n",
                        "positional arguments:\n",
                        "  args        Config files and command line specifications. Config files\n",
                        "              should be YAML (.yaml/.yml) files. Command line specifications\n",
                        "              should be in the form nested^key=value. Final config is built up\n",
                        "              from these items in a left to right manner, with later items\n",
                        "              taking precedence over earlier ones in the case of conflicts.\n",
                        "\n",
                        "optional arguments:\n",
                        "  -h, --help  show this help message and exit\n",
                        "\n",
                        "Copyright 2023-24, John Gardner\n"
                    ]
                }
            ],
            "source": [
                "%%bash\n",
                "\n",
                "graph-pes-train -h"
            ]
        },
        {
            "cell_type": "markdown",
            "metadata": {},
            "source": [
                "## Data definition\n",
                "\n",
                "We use [load-atoms](https://jla-gardner.github.io/load-atoms/) to download and split the QM7 dataset into training, validation and test datasets:"
            ]
        },
        {
            "cell_type": "code",
            "execution_count": 5,
            "metadata": {},
            "outputs": [
                {
                    "data": {
                        "application/vnd.jupyter.widget-view+json": {
                            "model_id": "af5166c34b1e43879048c0a1917894b4",
                            "version_major": 2,
                            "version_minor": 0
                        },
                        "text/plain": [
                            "Output()"
                        ]
                    },
                    "metadata": {},
                    "output_type": "display_data"
                },
                {
                    "data": {
                        "text/html": [
                            "<pre style=\"white-space:pre;overflow-x:auto;line-height:normal;font-family:Menlo,'DejaVu Sans Mono',consolas,'Courier New',monospace\"></pre>\n"
                        ],
                        "text/plain": []
                    },
                    "metadata": {},
                    "output_type": "display_data"
                }
            ],
            "source": [
                "import ase.io\n",
                "from load_atoms import load_dataset\n",
                "\n",
                "structures = load_dataset(\"QM7\")\n",
                "train, val, test = structures.random_split([0.8, 0.1, 0.1])\n",
                "\n",
                "ase.io.write(\"train.xyz\", train)\n",
                "ase.io.write(\"val.xyz\", val)\n",
                "ase.io.write(\"test.xyz\", test)"
            ]
        },
        {
            "cell_type": "markdown",
            "metadata": {},
            "source": [
                "## Configuration"
            ]
        },
        {
            "cell_type": "raw",
            "metadata": {
                "raw_mimetype": "text/restructuredtext",
                "vscode": {
                    "languageId": "raw"
                }
            },
            "source": [
                "Great - now lets train a model. To do this, we have specified the following in our ``quickstart-config.yaml`` file:\n",
                "\n",
                "* the model architecture to instantiate and train (here :class:`~graph_pes.models.PaiNN`) \n",
                "* the data to train on (here the `QM7 <https://jla-gardner.github.io/load-atoms/datasets/QM7.html>`_ dataset downloaded internally using `load-atoms <https://jla-gardner.github.io/load-atoms/>`_) \n",
                "* the loss function to use (here a simple :class:`~graph_pes.training.loss.PerAtomEnergyLoss`) \n",
                "* and various other training hyperparameters (e.g. the learning rate, batch size, etc.)\n",
                "\n",
                ".. literalinclude:: quickstart-config.yaml\n",
                "    :language: yaml\n",
                "    :caption: quickstart-config.yaml\n",
                "    :linenos:\n",
                "\n",
                "We can download `this file <https://raw.githubusercontent.com/jla-gardner/graph-pes/refs/heads/main/docs/source/quickstart/quickstart-config.yaml>`__ using wget:"
            ]
        },
        {
            "cell_type": "code",
            "execution_count": null,
            "metadata": {},
            "outputs": [],
            "source": [
                "!wget https://raw.githubusercontent.com/jla-gardner/graph-pes/refs/heads/main/docs/source/quickstart/quickstart-config.yaml"
            ]
        },
        {
            "cell_type": "markdown",
            "metadata": {},
            "source": [
                "## Let's train\n",
                "\n",
                "\n",
                "You can see the output of this training process in this [Weights and Biases dashboard](https://wandb.ai/jla-gardner/graph-pes-demo/runs/qm7-quickstart).\n",
                "\n"
            ]
        },
        {
            "cell_type": "code",
            "execution_count": 1,
            "metadata": {},
            "outputs": [
                {
                    "name": "stdout",
                    "output_type": "stream",
                    "text": [
                        "Seed set to 42\n"
                    ]
                },
                {
                    "name": "stdout",
                    "output_type": "stream",
                    "text": [
                        "[graph-pes INFO]: Set logging level to INFO\n",
                        "[graph-pes INFO]: Started training at 2024-10-14 15:17:10.323\n",
                        "[graph-pes INFO]: Output directory: graph-pes-results/qm7-quickstart\n",
                        "[graph-pes INFO]: \n",
                        "Logging using WandbLogger(\n",
                        "  project=\"graph-pes-demo\",\n",
                        "  id=\"qm7-quickstart\",\n",
                        "  save_dir=\"graph-pes-results\"\n",
                        ")\n",
                        "\n"
                    ]
                },
                {
                    "name": "stdout",
                    "output_type": "stream",
                    "text": [
                        "GPU available: True (cuda), used: True\n",
                        "TPU available: False, using: 0 TPU cores\n",
                        "IPU available: False, using: 0 IPUs\n",
                        "HPU available: False, using: 0 HPUs\n",
                        "wandb: Currently logged in as: jla-gardner. Use `wandb login --relogin` to force relogin\n",
                        "wandb: wandb version 0.18.3 is available!  To upgrade, please run:\n",
                        "wandb:  $ pip install wandb --upgrade\n",
                        "wandb: Tracking run with wandb version 0.17.1\n",
                        "wandb: Run data is saved locally in graph-pes-results/wandb/run-20241014_151711-qm7-quickstart\n",
                        "wandb: Run `wandb offline` to turn off syncing.\n",
                        "wandb: Syncing run qm7-quickstart\n",
                        "wandb: ⭐️ View project at https://wandb.ai/jla-gardner/graph-pes-demo\n",
                        "wandb: 🚀 View run at https://wandb.ai/jla-gardner/graph-pes-demo/runs/qm7-quickstart\n"
                    ]
                },
                {
                    "name": "stdout",
                    "output_type": "stream",
                    "text": [
                        "[graph-pes INFO]: Logging to graph-pes-results/qm7-quickstart/logs/rank-0.log\n",
                        "[graph-pes INFO]: \n",
                        "model:\n",
                        "   graph_pes.models.PaiNN:\n",
                        "      layers: 3\n",
                        "      cutoff: 3.0\n",
                        "data:\n",
                        "   train:\n",
                        "      graph_pes.data.file_dataset:\n",
                        "         path: train.xyz\n",
                        "         cutoff: 3.0\n",
                        "         n: 1000\n",
                        "         shuffle: false\n",
                        "   valid:\n",
                        "      graph_pes.data.file_dataset:\n",
                        "         path: val.xyz\n",
                        "         cutoff: 3.0\n",
                        "loss: graph_pes.training.loss.PerAtomEnergyLoss()\n",
                        "fitting:\n",
                        "   pre_fit_model: true\n",
                        "   max_n_pre_fit: 5000\n",
                        "   early_stopping_patience: null\n",
                        "   trainer_kwargs:\n",
                        "      max_epochs: 100\n",
                        "      accelerator: auto\n",
                        "      enable_model_summary: false\n",
                        "   loader_kwargs:\n",
                        "      num_workers: 0\n",
                        "      persistent_workers: false\n",
                        "      batch_size: 16\n",
                        "      pin_memory: false\n",
                        "   optimizer:\n",
                        "      graph_pes.training.opt.Optimizer:\n",
                        "         name: AdamW\n",
                        "         lr: 0.0001\n",
                        "   scheduler: null\n",
                        "   swa: null\n",
                        "general:\n",
                        "   seed: 42\n",
                        "   root_dir: graph-pes-results\n",
                        "   run_id: qm7-quickstart\n",
                        "   log_level: INFO\n",
                        "   progress: logged\n",
                        "wandb:\n",
                        "   project: graph-pes-demo\n",
                        "\n",
                        "[graph-pes INFO]: \n",
                        "FittingData(\n",
                        "  train=ASEDataset(1,000, labels=['energy']),\n",
                        "  valid=ASEDataset(716, labels=['energy'])\n",
                        ")\n",
                        "\n",
                        "[graph-pes INFO]: Optimizer(name=\"AdamW\", lr=0.0001)\n",
                        "[graph-pes INFO]: No LR scheduler.\n",
                        "[graph-pes INFO]: \n",
                        "TotalLoss:\n",
                        "    (weight) : (loss)\n",
                        "         1.0 : PerAtomEnergyLoss(\"energy\", metric=MAE())\n",
                        "\n",
                        "[graph-pes INFO]: Starting training on rank 0.\n",
                        "[graph-pes INFO]: Preparing data\n",
                        "[graph-pes INFO]: Setting up datasets\n",
                        "[graph-pes INFO]: Pre-fitting the model on 1,000 samples\n",
                        "[graph-pes INFO]: \n",
                        "Model:\n",
                        "PaiNN(\n",
                        "  (z_embedding): PerElementEmbedding(\n",
                        "    dim=32,\n",
                        "    elements=['H', 'C', 'N', 'O', 'S']\n",
                        "  )\n",
                        "  (interactions): UniformModuleList(\n",
                        "    (0-2): 3 x Interaction(\n",
                        "      (filter_generator): HaddamardProduct(\n",
                        "        (components): ModuleList(\n",
                        "          (0): Sequential(\n",
                        "            (0): Bessel(n_features=20, cutoff=3.0, trainable=True)\n",
                        "            (1): Linear(in_features=20, out_features=96, bias=True)\n",
                        "          )\n",
                        "          (1): PolynomialEnvelope(cutoff=3.0, p=6)\n",
                        "        )\n",
                        "      )\n",
                        "      (Phi): MLP(32 → 32 → 96, activation=SiLU())\n",
                        "    )\n",
                        "  )\n",
                        "  (updates): UniformModuleList(\n",
                        "    (0-2): 3 x Update(\n",
                        "      (U): VectorLinear(\n",
                        "        (_linear): Linear(in_features=32, out_features=32, bias=False)\n",
                        "      )\n",
                        "      (V): VectorLinear(\n",
                        "        (_linear): Linear(in_features=32, out_features=32, bias=False)\n",
                        "      )\n",
                        "      (mlp): MLP(64 → 32 → 96, activation=SiLU())\n",
                        "    )\n",
                        "  )\n",
                        "  (read_out): MLP(32 → 32 → 1, activation=SiLU())\n",
                        ")\n",
                        "\n",
                        "[graph-pes INFO]: Number of learnable params : 41,922\n"
                    ]
                },
                {
                    "name": "stdout",
                    "output_type": "stream",
                    "text": [
                        "   epoch   valid/loss/total   valid/loss/per_atom_energy_mae_component   timer/its_per_s/train   timer/its_per_s/valid\n",
                        "       0            4.08090                                    4.08090                76.92308               207.77777\n",
                        "       1            2.62973                                    2.62973                83.33334               207.03702\n",
                        "       2            0.48820                                    0.48820                83.33334               202.22223\n",
                        "       3            0.33228                                    0.33228                90.90909               210.37036\n",
                        "       4            0.25786                                    0.25786                90.90909               207.77777\n",
                        "       5            0.20465                                    0.20465                90.90909               214.44444\n",
                        "       6            0.16524                                    0.16524                83.33334               208.51851\n",
                        "       7            0.12828                                    0.12828                83.33334               212.59261\n",
                        "       8            0.09807                                    0.09807                90.90909               208.51854\n",
                        "       9            0.08643                                    0.08643                83.33334               204.81480\n",
                        "      10            0.07901                                    0.07901                83.33334               207.40739\n",
                        "      11            0.06861                                    0.06861                83.33334               207.40739\n",
                        "      12            0.06402                                    0.06402                83.33334               215.55556\n",
                        "      13            0.06045                                    0.06045                90.90909               207.77777\n",
                        "      14            0.06032                                    0.06032                90.90909               205.39684\n",
                        "      15            0.05439                                    0.05439                83.33334               207.77777\n",
                        "      16            0.05234                                    0.05234                83.33334               205.37038\n",
                        "      17            0.05877                                    0.05877                83.33334               211.11111\n",
                        "      18            0.05299                                    0.05299                83.33334               204.98315\n",
                        "      19            0.04771                                    0.04771                90.90909               209.25925\n",
                        "      20            0.05068                                    0.05068                83.33334               210.37038\n",
                        "      21            0.04465                                    0.04465                90.90909               206.29631\n",
                        "      22            0.04797                                    0.04797                90.90909               215.55556\n",
                        "      23            0.04228                                    0.04228                90.90909               207.40739\n",
                        "      24            0.04401                                    0.04401                90.90909               208.51854\n",
                        "      25            0.04140                                    0.04140                83.33334               207.03705\n",
                        "      26            0.04560                                    0.04560                90.90909               208.14816\n",
                        "      27            0.04252                                    0.04252                90.90909               208.14816\n",
                        "      28            0.04230                                    0.04230                90.90909               212.59258\n",
                        "      29            0.04249                                    0.04249                83.33334               210.74075\n",
                        "      30            0.04094                                    0.04094                83.33334               210.74075\n",
                        "      31            0.04652                                    0.04652                90.90909               209.62964\n",
                        "      32            0.03974                                    0.03974                76.92308               211.85187\n",
                        "      33            0.04858                                    0.04858                90.90909               205.92592\n",
                        "      34            0.03498                                    0.03498                83.33334               207.77777\n",
                        "      35            0.04308                                    0.04308                83.33334               210.74075\n",
                        "      36            0.03506                                    0.03506                90.90909               208.88889\n",
                        "      37            0.03393                                    0.03393                90.90909               210.37038\n",
                        "      38            0.03408                                    0.03408                90.90909               208.51851\n",
                        "      39            0.03304                                    0.03304                83.33334               207.59261\n",
                        "      40            0.03324                                    0.03324                90.90909               211.48146\n",
                        "      41            0.04367                                    0.04367                90.90909               206.85187\n",
                        "      42            0.03471                                    0.03471                83.33334               207.77777\n",
                        "      43            0.03094                                    0.03094                90.90909               202.40739\n",
                        "      44            0.03102                                    0.03102                83.33334               206.29631\n",
                        "      45            0.03219                                    0.03219                83.33334               208.51851\n",
                        "      46            0.03221                                    0.03221                83.33334               206.29631\n",
                        "      47            0.03716                                    0.03716                83.33334               211.11111\n",
                        "      48            0.02898                                    0.02898                90.90909               204.81480\n",
                        "      49            0.03617                                    0.03617                83.33334               210.37038\n",
                        "      50            0.02885                                    0.02885                83.33334               212.59258\n",
                        "      51            0.03508                                    0.03508                90.90909               209.62964\n",
                        "      52            0.02813                                    0.02813                83.33334               208.88889\n",
                        "      53            0.02723                                    0.02723                90.90909               208.88889\n",
                        "      54            0.02767                                    0.02767                83.33334               205.18520\n",
                        "      55            0.02817                                    0.02817                90.90909               208.14813\n",
                        "      56            0.02945                                    0.02945                90.90909               209.25926\n",
                        "      57            0.02647                                    0.02647                90.90909               209.62964\n",
                        "      58            0.02818                                    0.02818                90.90909               213.33333\n",
                        "      59            0.02537                                    0.02537                76.92308               209.25926\n",
                        "      60            0.02489                                    0.02489                90.90909               209.25925\n",
                        "      61            0.02505                                    0.02505                90.90909               208.88889\n",
                        "      62            0.02351                                    0.02351                83.33334               207.77777\n",
                        "      63            0.02283                                    0.02283                90.90909               211.11111\n",
                        "      64            0.02747                                    0.02747                76.92308               205.37038\n",
                        "      65            0.02370                                    0.02370                83.33334               212.59258\n",
                        "      66            0.02260                                    0.02260                90.90909               205.00000\n",
                        "      67            0.02166                                    0.02166                90.90909               212.22223\n",
                        "      68            0.02569                                    0.02569                90.90909               208.51851\n",
                        "      69            0.02398                                    0.02398                76.92308               210.37038\n",
                        "      70            0.02339                                    0.02339                71.42857               205.18518\n",
                        "      71            0.02438                                    0.02438                83.33334               208.88889\n",
                        "      72            0.02022                                    0.02022                83.33334               211.48149\n",
                        "      73            0.02980                                    0.02980                83.33334               210.37036\n",
                        "      74            0.02033                                    0.02033                76.92308               205.55556\n",
                        "      75            0.02236                                    0.02236                83.33334               211.11111\n",
                        "      76            0.01951                                    0.01951                90.90909               208.14813\n",
                        "      77            0.01898                                    0.01898                90.90909               206.66667\n",
                        "      78            0.02557                                    0.02557                90.90909               205.18518\n",
                        "      79            0.02032                                    0.02032                83.33334               215.55556\n",
                        "      80            0.02453                                    0.02453                90.90909               210.37036\n",
                        "      81            0.02226                                    0.02226                90.90909               209.62964\n",
                        "      82            0.01937                                    0.01937                90.90909               206.66667\n",
                        "      83            0.02680                                    0.02680                83.33334               208.14816\n",
                        "      84            0.02197                                    0.02197                83.33334               212.22223\n",
                        "      85            0.01795                                    0.01795                90.90909               206.29630\n",
                        "      86            0.01814                                    0.01814                90.90909               208.51851\n",
                        "      87            0.02003                                    0.02003                83.33334               210.37036\n",
                        "      88            0.01810                                    0.01810                90.90909               210.74075\n",
                        "      89            0.01725                                    0.01725                90.90909               208.88889\n",
                        "      90            0.01697                                    0.01697                90.90909               206.29630\n",
                        "      91            0.01892                                    0.01892                83.33334               206.66667\n",
                        "      92            0.01657                                    0.01657                83.33334               207.03705\n",
                        "      93            0.01955                                    0.01955                83.33334               206.85187\n",
                        "      94            0.01825                                    0.01825                83.33334               213.33333\n",
                        "      95            0.01772                                    0.01772                90.90909               210.00000\n",
                        "      96            0.01661                                    0.01661                90.90909               210.00000\n",
                        "      97            0.01637                                    0.01637                83.33334               206.29631\n",
                        "      98            0.01851                                    0.01851                90.90909               208.51854\n",
                        "      99            0.01637                                    0.01637                90.90909               206.66667\n"
                    ]
                },
                {
                    "name": "stderr",
                    "output_type": "stream",
                    "text": [
                        "`Trainer.fit` stopped: `max_epochs=100` reached.\n"
                    ]
                },
                {
                    "name": "stdout",
                    "output_type": "stream",
                    "text": [
                        "[graph-pes INFO]: Loading best weights from \"graph-pes-results/qm7-quickstart/checkpoints/best.ckpt\"\n",
                        "[graph-pes INFO]: Training complete.\n",
                        "[graph-pes INFO]: Model saved to graph-pes-results/qm7-quickstart/model.pt\n",
                        "[graph-pes INFO]: Deploying model for use with LAMMPS to graph-pes-results/qm7-quickstart/lammps_model.pt\n"
                    ]
                },
                {
                    "name": "stdout",
                    "output_type": "stream",
                    "text": [
                        "wandb: \\ 0.033 MB of 0.033 MB uploaded\n",
                        "wandb: Run history:\n",
                        "wandb:                                    epoch ▁▁▁▁▂▂▂▂▂▃▃▃▃▃▄▄▄▄▄▄▅▅▅▅▅▅▆▆▆▆▆▇▇▇▇▇████\n",
                        "wandb:                   lr-AdamW/non-decayable ▁▁▁▁▁▁▁▁▁▁▁▁▁▁▁▁▁▁▁▁▁▁▁▁▁▁▁▁▁▁▁▁▁▁▁▁▁▁▁▁\n",
                        "wandb:                          lr-AdamW/normal ▁▁▁▁▁▁▁▁▁▁▁▁▁▁▁▁▁▁▁▁▁▁▁▁▁▁▁▁▁▁▁▁▁▁▁▁▁▁▁▁\n",
                        "wandb:                   n_learnable_parameters ▁\n",
                        "wandb:                             n_parameters ▁\n",
                        "wandb:                    timer/its_per_s/train ▄▄▄█▄▄▄▄█▁█▄█▄█▄█▄▄▁█▄██▄█▁█████▄▄█▄▄█▄█\n",
                        "wandb:                    timer/its_per_s/valid ▄▁▇▆▄█▄▆▅█▄▄▅▃▅▄▆▁▄▂▆▄▄▇▅▆▂▄▄▅▄▃▅▄▄▅▃▃▅▃\n",
                        "wandb:             timer/step_duration_ms/train ▅▅▅▁▅▅▅▅▁█▁▅▁▅▁▅▁▅▅█▁▅▁▁▅▁█▁▁▁▁▁▅▅▁▅▅▁▅▁\n",
                        "wandb:             timer/step_duration_ms/valid ▄█▁▂▅▁▄▃▄▁▅▄▄▅▄▄▃█▄▇▂▄▄▂▄▃▇▄▄▄▄▆▄▅▄▄▅▆▄▅\n",
                        "wandb: train/loss/per_atom_energy_mae_component █▂▁▁▁▁▁▁▁▁▁▁▁▁▁▁▁▁▁▁▁▁▁▁▁▁▁▁▁▁▁▁▁▁▁▁▁▁▁▁\n",
                        "wandb:                         train/loss/total █▂▁▁▁▁▁▁▁▁▁▁▁▁▁▁▁▁▁▁▁▁▁▁▁▁▁▁▁▁▁▁▁▁▁▁▁▁▁▁\n",
                        "wandb:        train/metrics/per_atom_energy_mae █▂▁▁▁▁▁▁▁▁▁▁▁▁▁▁▁▁▁▁▁▁▁▁▁▁▁▁▁▁▁▁▁▁▁▁▁▁▁▁\n",
                        "wandb:                      trainer/global_step ▁▁▁▂▂▂▂▂▂▃▃▃▃▃▃▄▄▄▄▄▅▅▅▅▅▅▆▆▆▆▆▇▇▇▇▇▇███\n",
                        "wandb: valid/loss/per_atom_energy_mae_component █▂▁▁▁▁▁▁▁▁▁▁▁▁▁▁▁▁▁▁▁▁▁▁▁▁▁▁▁▁▁▁▁▁▁▁▁▁▁▁\n",
                        "wandb:                         valid/loss/total █▂▁▁▁▁▁▁▁▁▁▁▁▁▁▁▁▁▁▁▁▁▁▁▁▁▁▁▁▁▁▁▁▁▁▁▁▁▁▁\n",
                        "wandb:        valid/metrics/per_atom_energy_mae █▂▁▁▁▁▁▁▁▁▁▁▁▁▁▁▁▁▁▁▁▁▁▁▁▁▁▁▁▁▁▁▁▁▁▁▁▁▁▁\n",
                        "wandb: \n",
                        "wandb: Run summary:\n",
                        "wandb:                                    epoch 99\n",
                        "wandb:                   lr-AdamW/non-decayable 0.0001\n",
                        "wandb:                          lr-AdamW/normal 0.0001\n",
                        "wandb:                   n_learnable_parameters 41922\n",
                        "wandb:                             n_parameters 41922\n",
                        "wandb:                    timer/its_per_s/train 90.90909\n",
                        "wandb:                    timer/its_per_s/valid 206.66667\n",
                        "wandb:             timer/step_duration_ms/train 11.0\n",
                        "wandb:             timer/step_duration_ms/valid 4.86667\n",
                        "wandb: train/loss/per_atom_energy_mae_component 0.01618\n",
                        "wandb:                         train/loss/total 0.01618\n",
                        "wandb:        train/metrics/per_atom_energy_mae 0.01618\n",
                        "wandb:                      trainer/global_step 6299\n",
                        "wandb: valid/loss/per_atom_energy_mae_component 0.01637\n",
                        "wandb:                         valid/loss/total 0.01637\n",
                        "wandb:        valid/metrics/per_atom_energy_mae 0.01637\n",
                        "wandb: \n",
                        "wandb: 🚀 View run qm7-quickstart at: https://wandb.ai/jla-gardner/graph-pes-demo/runs/qm7-quickstart\n",
                        "wandb: ⭐️ View project at: https://wandb.ai/jla-gardner/graph-pes-demo\n",
                        "wandb: Synced 6 W&B file(s), 0 media file(s), 0 artifact file(s) and 0 other file(s)\n",
                        "wandb: Find logs at: graph-pes-results/wandb/run-20241014_151711-qm7-quickstart/logs\n"
                    ]
                }
            ],
            "source": [
                "!graph-pes-train quickstart-config.yaml"
            ]
        },
        {
            "cell_type": "raw",
            "metadata": {
                "raw_mimetype": "text/restructuredtext",
                "vscode": {
                    "languageId": "raw"
                }
            },
            "source": [
                "Analysis\n",
                "--------\n",
                "\n",
                "Let's load the best weights and evaluate the model on the test dataset. See the :doc:`the model analysis notebook <model-analysis>` for more details.\n"
            ]
        },
        {
            "cell_type": "code",
            "execution_count": 3,
            "metadata": {},
            "outputs": [
                {
                    "data": {
                        "text/plain": [
                            "PaiNN(\n",
                            "  (z_embedding): PerElementEmbedding(\n",
                            "    dim=32,\n",
                            "    elements=['H', 'C', 'N', 'O', 'S']\n",
                            "  )\n",
                            "  (interactions): UniformModuleList(\n",
                            "    (0-2): 3 x Interaction(\n",
                            "      (filter_generator): HaddamardProduct(\n",
                            "        (components): ModuleList(\n",
                            "          (0): Sequential(\n",
                            "            (0): Bessel(n_features=20, cutoff=3.0, trainable=True)\n",
                            "            (1): Linear(in_features=20, out_features=96, bias=True)\n",
                            "          )\n",
                            "          (1): PolynomialEnvelope(cutoff=3.0, p=6)\n",
                            "        )\n",
                            "      )\n",
                            "      (Phi): MLP(32 → 32 → 96, activation=SiLU())\n",
                            "    )\n",
                            "  )\n",
                            "  (updates): UniformModuleList(\n",
                            "    (0-2): 3 x Update(\n",
                            "      (U): VectorLinear(\n",
                            "        (_linear): Linear(in_features=32, out_features=32, bias=False)\n",
                            "      )\n",
                            "      (V): VectorLinear(\n",
                            "        (_linear): Linear(in_features=32, out_features=32, bias=False)\n",
                            "      )\n",
                            "      (mlp): MLP(64 → 32 → 96, activation=SiLU())\n",
                            "    )\n",
                            "  )\n",
                            "  (read_out): MLP(32 → 32 → 1, activation=SiLU())\n",
                            ")"
                        ]
                    },
                    "execution_count": 3,
                    "metadata": {},
                    "output_type": "execute_result"
                }
            ],
            "source": [
                "from graph_pes.models import load_model\n",
                "\n",
                "best_model = load_model(\"graph-pes-results/qm7-quickstart/model.pt\")\n",
                "best_model\n"
            ]
        },
        {
            "cell_type": "code",
            "execution_count": 6,
            "metadata": {},
            "outputs": [
                {
                    "data": {
                        "image/png": "[encoded data removed]",
                        "text/plain": [
                            "<Figure size 350x300 with 1 Axes>"
                        ]
                    },
                    "metadata": {
                        "image/png": {
                            "height": 308,
                            "width": 368
                        }
                    },
                    "output_type": "display_data"
                }
            ],
            "source": [
                "from graph_pes.analysis import parity_plot\n",
                "from graph_pes.data.io import to_atomic_graphs\n",
                "from graph_pes.transform import divide_per_atom\n",
                "\n",
                "%config InlineBackend.figure_format = 'retina'\n",
                "\n",
                "test_graphs = to_atomic_graphs(test, cutoff=3.0)\n",
                "\n",
                "parity_plot(\n",
                "    best_model,\n",
                "    test_graphs,\n",
                "    property=\"energy\",\n",
                "    transform=divide_per_atom,\n",
                "    units=\"eV / atom\",\n",
                ")"
            ]
        }
    ],
    "metadata": {
        "kernelspec": {
            "display_name": "trash",
            "language": "python",
            "name": "python3"
        },
        "language_info": {
            "codemirror_mode": {
                "name": "ipython",
                "version": 3
            },
            "file_extension": ".py",
            "mimetype": "text/x-python",
            "name": "python",
            "nbconvert_exporter": "python",
            "pygments_lexer": "ipython3",
            "version": "3.8.18"
        }
    },
    "nbformat": 4,
    "nbformat_minor": 2
}
