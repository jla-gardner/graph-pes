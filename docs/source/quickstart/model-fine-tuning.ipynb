{
 "cells": [
  {
   "cell_type": "markdown",
   "metadata": {},
   "source": [
    "# Fine-tune a model"
   ]
  },
  {
   "cell_type": "raw",
   "metadata": {
    "raw_mimetype": "text/restructuredtext",
    "vscode": {
     "languageId": "raw"
    }
   },
   "source": [
    ":doc:`Previously <./train-a-model>` we crudely trained a simple :class:`~graph_pes.models.PaiNN` model on a subset of the `QM7 dataset <https://jla-gardner.github.io/load-atoms/datasets/QM7.html>`__.\n",
    "\n",
    "Let's now take this model (``./graph-pes-results/qm7-quickstart/model.pt``) and fine-tune it on the `C-GAP-17 dataset <https://jla-gardner.github.io/load-atoms/datasets/C-GAP-17.html>`__."
   ]
  },
  {
   "cell_type": "raw",
   "metadata": {
    "raw_mimetype": "text/restructuredtext",
    "vscode": {
     "languageId": "raw"
    }
   },
   "source": [
    "We use some slightly different settings to last time:\n",
    "\n",
    "* the energy labels in the C-GAP-17 dataset are offset by roughly `-143 eV/atom`. We therefore use a :class:`~graph_pes.models.AdditionModel` composed of our existing model and a :class:`~graph_pes.models.FixedOffset` to account for this offset.\n",
    "* we use the :func:`~graph_pes.models.load_model` helper function to load our existing model weights\n",
    "* the C-GAP-17 has both energy and force labels, and so we train on both of these quantities\n",
    "\n",
    ".. literalinclude:: fine-tune-config.yaml\n",
    "    :language: yaml\n",
    "    :caption: fine-tune-config.yaml\n",
    "    :linenos:\n",
    "\n",
    "We can download `this file <https://raw.githubusercontent.com/jla-gardner/graph-pes/refs/heads/main/docs/source/quickstart/fine-tune-config.yaml>`__ using ``wget``:"
   ]
  },
  {
   "cell_type": "code",
   "execution_count": null,
   "metadata": {},
   "outputs": [],
   "source": [
    "!wget https://raw.githubusercontent.com/jla-gardner/graph-pes/refs/heads/main/docs/source/quickstart/fine-tune-config.yaml"
   ]
  },
  {
   "cell_type": "markdown",
   "metadata": {},
   "source": [
    "... and then run our fine-tuning process:"
   ]
  },
  {
   "cell_type": "code",
   "execution_count": null,
   "metadata": {},
   "outputs": [],
   "source": [
    "%%bash\n",
    "\n",
    "export LOAD_ATOMS_VERBOSE=0  # disable load-atoms progress bars\n",
    "graph-pes-train fine-tune-config.yaml"
   ]
  },
  {
   "cell_type": "code",
   "execution_count": 1,
   "metadata": {},
   "outputs": [
    {
     "ename": "NameError",
     "evalue": "name 'TODO' is not defined",
     "output_type": "error",
     "traceback": [
      "\u001b[0;31m---------------------------------------------------------------------------\u001b[0m",
      "\u001b[0;31mNameError\u001b[0m                                 Traceback (most recent call last)",
      "Cell \u001b[0;32mIn[1], line 1\u001b[0m\n\u001b[0;32m----> 1\u001b[0m \u001b[43mTODO\u001b[49m\n",
      "\u001b[0;31mNameError\u001b[0m: name 'TODO' is not defined"
     ]
    }
   ],
   "source": [
    "TODO"
   ]
  }
 ],
 "metadata": {
  "kernelspec": {
   "display_name": "graph-pes",
   "language": "python",
   "name": "python3"
  },
  "language_info": {
   "codemirror_mode": {
    "name": "ipython",
    "version": 3
   },
   "file_extension": ".py",
   "mimetype": "text/x-python",
   "name": "python",
   "nbconvert_exporter": "python",
   "pygments_lexer": "ipython3",
   "version": "3.8.18"
  }
 },
 "nbformat": 4,
 "nbformat_minor": 2
}
