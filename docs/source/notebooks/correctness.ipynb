{
 "cells": [
  {
   "cell_type": "raw",
   "metadata": {
    "raw_mimetype": "text/restructuredtext",
    "vscode": {
     "languageId": "raw"
    }
   },
   "source": [
    "Correctness\n",
    "===========\n",
    "\n",
    "Below we (empirically) show the correctness of the :func:`graph_pes.core.get_predictions` function by comparing:\n",
    "\n",
    "1. predictions from the inbuilt :class:`graph_pes.models.LennardJones` model against those from ASE's :class:`~ase.calculators.lj.LennardJones` calculator.\n",
    "2. ``\"force\"`` and ``\"stress\"`` predictions from arbitrary :class:`~graph_pes.core.ConservativePESModel` instances against finite-difference approximations of those quantities.\n",
    "\n",
    "Lennard-Jones\n",
    "-------------"
   ]
  },
  {
   "cell_type": "code",
   "execution_count": 1,
   "metadata": {},
   "outputs": [
    {
     "data": {
      "text/plain": [
       "0.643428299130453"
      ]
     },
     "execution_count": 1,
     "metadata": {},
     "output_type": "execute_result"
    }
   ],
   "source": [
    "import ase\n",
    "from ase.calculators.lj import LennardJones as ASE_LennardJones\n",
    "from graph_pes.calculator import GraphPESCalculator\n",
    "from graph_pes.models import LennardJones as GraphPES_LennardJones\n",
    "\n",
    "ase_lj_calc = ASE_LennardJones(rc=2.0, sigma=1.0, epsilon=1.0, smooth=False)\n",
    "graph_pes_lj_calc = GraphPESCalculator(\n",
    "    model=GraphPES_LennardJones.from_ase(\n",
    "        rc=2.0, sigma=1.0, epsilon=1.0, smooth=False\n",
    "    )\n",
    ")\n",
    "\n",
    "dimer = ase.Atoms(\n",
    "    positions=[\n",
    "        [0, 0, 0],\n",
    "        [0, 0, 0.98],\n",
    "    ]\n",
    ")\n",
    "\n",
    "ase_lj_calc.get_potential_energy(dimer)"
   ]
  },
  {
   "cell_type": "code",
   "execution_count": 2,
   "metadata": {},
   "outputs": [
    {
     "data": {
      "text/plain": [
       "0.643427848815918"
      ]
     },
     "execution_count": 2,
     "metadata": {},
     "output_type": "execute_result"
    }
   ],
   "source": [
    "graph_pes_lj_calc.get_potential_energy(dimer)"
   ]
  },
  {
   "cell_type": "code",
   "execution_count": 3,
   "metadata": {},
   "outputs": [
    {
     "data": {
      "text/plain": [
       "array([[  0.        ,   0.        , -34.77113701],\n",
       "       [  0.        ,   0.        ,  34.77113701]])"
      ]
     },
     "execution_count": 3,
     "metadata": {},
     "output_type": "execute_result"
    }
   ],
   "source": [
    "ase_lj_calc.get_forces(dimer)"
   ]
  },
  {
   "cell_type": "code",
   "execution_count": 4,
   "metadata": {},
   "outputs": [
    {
     "data": {
      "text/plain": [
       "array([[ -0.      ,  -0.      , -34.771133],\n",
       "       [ -0.      ,  -0.      ,  34.771133]], dtype=float32)"
      ]
     },
     "execution_count": 4,
     "metadata": {},
     "output_type": "execute_result"
    }
   ],
   "source": [
    "graph_pes_lj_calc.get_forces(dimer)"
   ]
  },
  {
   "cell_type": "code",
   "execution_count": 5,
   "metadata": {},
   "outputs": [
    {
     "data": {
      "text/plain": [
       "array([[-18.039,  -0.   ,   0.   ],\n",
       "       [ -0.   , -18.039,   0.   ],\n",
       "       [  0.   ,   0.   , -18.039]])"
      ]
     },
     "execution_count": 5,
     "metadata": {},
     "output_type": "execute_result"
    }
   ],
   "source": [
    "import numpy as np\n",
    "from ase.stress import voigt_6_to_full_3x3_stress\n",
    "\n",
    "\n",
    "def get_stress_matrix(calculator, structure):\n",
    "    stress = calculator.get_stress(structure)\n",
    "    if not stress.shape == (3, 3):\n",
    "        stress = voigt_6_to_full_3x3_stress(stress)\n",
    "    return np.round(stress, 3)\n",
    "\n",
    "\n",
    "cell_size = 1\n",
    "periodic_structure = ase.Atoms(\n",
    "    positions=[\n",
    "        [cell_size / 2, cell_size / 2, cell_size / 2],\n",
    "    ],\n",
    "    cell=[cell_size, cell_size, cell_size],\n",
    "    pbc=True,\n",
    ")\n",
    "\n",
    "get_stress_matrix(ase_lj_calc, periodic_structure)"
   ]
  },
  {
   "cell_type": "code",
   "execution_count": 6,
   "metadata": {},
   "outputs": [
    {
     "data": {
      "text/plain": [
       "array([[-18.039,   0.   ,   0.   ],\n",
       "       [  0.   , -18.039,  -0.   ],\n",
       "       [  0.   ,  -0.   , -18.039]])"
      ]
     },
     "execution_count": 6,
     "metadata": {},
     "output_type": "execute_result"
    }
   ],
   "source": [
    "get_stress_matrix(graph_pes_lj_calc, periodic_structure)"
   ]
  },
  {
   "cell_type": "markdown",
   "metadata": {},
   "source": [
    "# Finite-differences"
   ]
  },
  {
   "cell_type": "code",
   "execution_count": 7,
   "metadata": {},
   "outputs": [],
   "source": [
    "from __future__ import annotations\n",
    "\n",
    "from typing import Callable, Literal\n",
    "\n",
    "\n",
    "def finite_difference_force_estimate(\n",
    "    energy_function: Callable[[ase.Atoms], float],\n",
    "    atoms: ase.Atoms,\n",
    "    atom_index: int,\n",
    "    direction: Literal[\"x\", \"y\", \"z\"],\n",
    "    epsilon: float = 1e-4,\n",
    ") -> float:\n",
    "    direction_index = {\"x\": 0, \"y\": 1, \"z\": 2}[direction]\n",
    "\n",
    "    copy1 = atoms.copy()\n",
    "    copy1.positions[atom_index][direction_index] += epsilon\n",
    "    copy2 = atoms.copy()\n",
    "    copy2.positions[atom_index][direction_index] -= epsilon\n",
    "\n",
    "    f1 = energy_function(copy1)\n",
    "    f2 = energy_function(copy2)\n",
    "    return (f2 - f1) / (2 * epsilon)\n",
    "\n",
    "\n",
    "def finite_difference_stress_component(\n",
    "    energy_function: Callable[[ase.Atoms], float],\n",
    "    atoms: ase.Atoms,\n",
    "    component: tuple[int, int],\n",
    "    epsilon: float = 1e-6,\n",
    ") -> float:\n",
    "    i, j = component\n",
    "\n",
    "    scaling = np.eye(3)\n",
    "    if i == j:\n",
    "        scaling[i, j] += epsilon\n",
    "    else:\n",
    "        scaling[i, j] = scaling[j, i] = epsilon / 2\n",
    "\n",
    "    copy = atoms.copy()\n",
    "    copy.positions = atoms.positions @ scaling\n",
    "    copy.cell = atoms.cell @ scaling\n",
    "\n",
    "    f1 = energy_function(copy)\n",
    "    f2 = energy_function(atoms)\n",
    "    return (f1 - f2) / epsilon / atoms.get_volume()\n",
    "\n",
    "\n",
    "def finite_difference_stress_estimate(\n",
    "    energy_function: Callable[[ase.Atoms], float],\n",
    "    atoms: ase.Atoms,\n",
    "    epsilon: float = 1e-6,\n",
    ") -> np.ndarray:\n",
    "    stress = np.zeros((3, 3))\n",
    "    for i in range(3):\n",
    "        for j in range(3):\n",
    "            stress[i, j] = finite_difference_stress_component(\n",
    "                energy_function, atoms, (i, j), epsilon\n",
    "            )\n",
    "    return stress\n"
   ]
  },
  {
   "cell_type": "code",
   "execution_count": 8,
   "metadata": {},
   "outputs": [],
   "source": [
    "from graph_pes.models import SchNet\n",
    "\n",
    "model = SchNet(cutoff=3.0)\n",
    "schnet_calc = GraphPESCalculator(model)\n",
    "\n",
    "cell_size = 4\n",
    "n_atoms = 10\n",
    "random_structure = ase.Atoms(\n",
    "    positions=np.random.RandomState(42).rand(n_atoms, 3) * cell_size,\n",
    "    cell=[cell_size, cell_size, cell_size],\n",
    "    pbc=True,\n",
    ")"
   ]
  },
  {
   "cell_type": "code",
   "execution_count": 9,
   "metadata": {},
   "outputs": [
    {
     "data": {
      "text/plain": [
       "(0.077069, 0.077016)"
      ]
     },
     "execution_count": 9,
     "metadata": {},
     "output_type": "execute_result"
    }
   ],
   "source": [
    "atom_index = 0\n",
    "direction = \"x\"\n",
    "\n",
    "fd_estimate = finite_difference_force_estimate(\n",
    "    schnet_calc.get_potential_energy,\n",
    "    random_structure,\n",
    "    atom_index,\n",
    "    direction,\n",
    "    epsilon=1e-3,\n",
    ")\n",
    "autograd_value = schnet_calc.get_forces(random_structure)[atom_index][\n",
    "    {\"x\": 0, \"y\": 1, \"z\": 2}[direction]\n",
    "]\n",
    "\n",
    "np.round(fd_estimate, 6), np.round(autograd_value, 6)"
   ]
  },
  {
   "cell_type": "code",
   "execution_count": 10,
   "metadata": {},
   "outputs": [
    {
     "data": {
      "text/plain": [
       "array([[-0.002667, -0.001911,  0.000503],\n",
       "       [-0.001911, -0.001725, -0.000875],\n",
       "       [ 0.000503, -0.000875, -0.000505]])"
      ]
     },
     "execution_count": 10,
     "metadata": {},
     "output_type": "execute_result"
    }
   ],
   "source": [
    "# finite-difference stress\n",
    "fd_stress = finite_difference_stress_estimate(\n",
    "    schnet_calc.get_potential_energy, random_structure, epsilon=1e-3\n",
    ")\n",
    "np.round(fd_stress, 6)\n"
   ]
  },
  {
   "cell_type": "code",
   "execution_count": 11,
   "metadata": {},
   "outputs": [
    {
     "data": {
      "text/plain": [
       "array([[-0.002653, -0.001904,  0.000528],\n",
       "       [-0.001904, -0.001764, -0.000848],\n",
       "       [ 0.000528, -0.000848, -0.000446]])"
      ]
     },
     "execution_count": 11,
     "metadata": {},
     "output_type": "execute_result"
    }
   ],
   "source": [
    "from ase.stress import voigt_6_to_full_3x3_stress\n",
    "\n",
    "# autograd stress\n",
    "autograd_stress = voigt_6_to_full_3x3_stress(\n",
    "    schnet_calc.get_stress(random_structure)\n",
    ")\n",
    "np.round(autograd_stress, 6)"
   ]
  }
 ],
 "metadata": {
  "kernelspec": {
   "display_name": "graph-pes",
   "language": "python",
   "name": "python3"
  },
  "language_info": {
   "codemirror_mode": {
    "name": "ipython",
    "version": 3
   },
   "file_extension": ".py",
   "mimetype": "text/x-python",
   "name": "python",
   "nbconvert_exporter": "python",
   "pygments_lexer": "ipython3",
   "version": "3.8.18"
  }
 },
 "nbformat": 4,
 "nbformat_minor": 2
}
